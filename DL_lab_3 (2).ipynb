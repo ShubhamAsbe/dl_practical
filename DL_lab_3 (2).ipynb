{
  "nbformat": 4,
  "nbformat_minor": 0,
  "metadata": {
    "colab": {
      "provenance": []
    },
    "kernelspec": {
      "name": "python3",
      "display_name": "Python 3"
    },
    "language_info": {
      "name": "python"
    }
  },
  "cells": [
    {
      "cell_type": "code",
      "execution_count": null,
      "metadata": {
        "id": "3YHxCOvdmbHI"
      },
      "outputs": [],
      "source": [
        "import numpy as np\n",
        "import keras\n",
        "from keras.datasets import mnist\n",
        "from keras.models import Model\n",
        "from keras.layers import Dense, Input\n",
        "from keras.layers import Conv2D, MaxPooling2D, Dropout, Flatten\n",
        "from keras import backend as k\n"
      ]
    },
    {
      "cell_type": "code",
      "source": [
        "(x_train, y_train), (x_test, y_test) = mnist.load_data()\n"
      ],
      "metadata": {
        "id": "yXalYgE4ox0c"
      },
      "execution_count": null,
      "outputs": []
    },
    {
      "cell_type": "code",
      "source": [
        "img_rows, img_cols=28, 28\n",
        "\n",
        "if k.image_data_format() == 'channels_first':\n",
        "  x_train = x_train.reshape(x_train.shape[0], 1, img_rows, img_cols)\n",
        "  x_test = x_test.reshape(x_test.shape[0], 1, img_rows, img_cols)\n",
        "  inpx = (1, img_rows, img_cols)\n",
        "\n",
        "else:\n",
        "  x_train = x_train.reshape(x_train.shape[0], img_rows, img_cols, 1)\n",
        "  x_test = x_test.reshape(x_test.shape[0], img_rows, img_cols, 1)\n",
        "  inpx = (img_rows, img_cols, 1)\n",
        "\n",
        "x_train = x_train.astype('float32')\n",
        "x_test = x_test.astype('float32')\n",
        "x_train /= 255\n",
        "x_test /= 255\n"
      ],
      "metadata": {
        "id": "VY37Ra6jo2LE"
      },
      "execution_count": null,
      "outputs": []
    },
    {
      "cell_type": "code",
      "source": [
        "y_train = keras.utils.to_categorical(y_train)\n",
        "y_test = keras.utils.to_categorical(y_test)\n"
      ],
      "metadata": {
        "id": "70Tt5o0Ko4me"
      },
      "execution_count": null,
      "outputs": []
    },
    {
      "cell_type": "code",
      "source": [
        "inpx = Input(shape=inpx)\n",
        "layer1 = Conv2D(32, kernel_size=(3, 3), activation='relu')(inpx)\n",
        "layer2 = Conv2D(64, (3, 3), activation='relu')(layer1)\n",
        "layer3 = MaxPooling2D(pool_size=(3, 3))(layer2)\n",
        "layer4 = Dropout(0.5)(layer3)\n",
        "layer5 = Flatten()(layer4)\n",
        "layer6 = Dense(250, activation='sigmoid')(layer5)\n",
        "layer7 = Dense(10, activation='softmax')(layer6)\n"
      ],
      "metadata": {
        "id": "k_8FRBglpB79"
      },
      "execution_count": null,
      "outputs": []
    },
    {
      "cell_type": "code",
      "source": [
        "model = Model([inpx], layer7)\n",
        "model.compile(optimizer=keras.optimizers.Adadelta(),\n",
        "\t\t\tloss=keras.losses.categorical_crossentropy,\n",
        "\t\t\tmetrics=['accuracy'])\n",
        "\n",
        "model.fit(x_train, y_train, epochs=12, batch_size=500)\n"
      ],
      "metadata": {
        "colab": {
          "base_uri": "https://localhost:8080/"
        },
        "id": "4QJbMiZTpDsY",
        "outputId": "c3c21055-f8bb-4dd0-e2d4-a9a53a8a4d05"
      },
      "execution_count": null,
      "outputs": [
        {
          "output_type": "stream",
          "name": "stdout",
          "text": [
            "Epoch 1/12\n",
            "120/120 [==============================] - 124s 1s/step - loss: 2.7493 - accuracy: 0.0993\n",
            "Epoch 2/12\n",
            "120/120 [==============================] - 123s 1s/step - loss: 2.7143 - accuracy: 0.0993\n",
            "Epoch 3/12\n",
            "120/120 [==============================] - 123s 1s/step - loss: 2.6794 - accuracy: 0.0993\n",
            "Epoch 4/12\n",
            "120/120 [==============================] - 124s 1s/step - loss: 2.6439 - accuracy: 0.0993\n",
            "Epoch 5/12\n",
            "120/120 [==============================] - 125s 1s/step - loss: 2.6083 - accuracy: 0.0993\n",
            "Epoch 6/12\n",
            "120/120 [==============================] - 125s 1s/step - loss: 2.5730 - accuracy: 0.0993\n",
            "Epoch 7/12\n",
            "120/120 [==============================] - 124s 1s/step - loss: 2.5381 - accuracy: 0.0993\n",
            "Epoch 8/12\n",
            "120/120 [==============================] - 125s 1s/step - loss: 2.5039 - accuracy: 0.0993\n",
            "Epoch 9/12\n",
            "120/120 [==============================] - 125s 1s/step - loss: 2.4705 - accuracy: 0.0993\n",
            "Epoch 10/12\n",
            "120/120 [==============================] - 125s 1s/step - loss: 2.4387 - accuracy: 0.0993\n",
            "Epoch 11/12\n",
            "120/120 [==============================] - 125s 1s/step - loss: 2.4092 - accuracy: 0.0993\n",
            "Epoch 12/12\n",
            "120/120 [==============================] - 125s 1s/step - loss: 2.3818 - accuracy: 0.0993\n"
          ]
        },
        {
          "output_type": "execute_result",
          "data": {
            "text/plain": [
              "<keras.src.callbacks.History at 0x7a6102755150>"
            ]
          },
          "metadata": {},
          "execution_count": 22
        }
      ]
    },
    {
      "cell_type": "code",
      "source": [
        "score = model.evaluate(x_test, y_test, verbose=0)\n",
        "print('loss=', score[0])\n",
        "print('accuracy=', score[1])\n"
      ],
      "metadata": {
        "colab": {
          "base_uri": "https://localhost:8080/"
        },
        "id": "t4azp8ovpFkh",
        "outputId": "372985ae-5bef-4c83-e963-ccc42a7ae672"
      },
      "execution_count": null,
      "outputs": [
        {
          "output_type": "stream",
          "name": "stdout",
          "text": [
            "loss= 2.364516496658325\n",
            "accuracy= 0.10320000350475311\n"
          ]
        }
      ]
    },
    {
      "cell_type": "code",
      "source": [],
      "metadata": {
        "id": "VJUJlvo1o3w7"
      },
      "execution_count": null,
      "outputs": []
    }
  ]
}