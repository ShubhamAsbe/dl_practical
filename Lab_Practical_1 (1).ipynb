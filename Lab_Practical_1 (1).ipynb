{
  "nbformat": 4,
  "nbformat_minor": 0,
  "metadata": {
    "colab": {
      "provenance": []
    },
    "kernelspec": {
      "name": "python3",
      "display_name": "Python 3"
    },
    "language_info": {
      "name": "python"
    }
  },
  "cells": [
    {
      "cell_type": "code",
      "execution_count": 3,
      "metadata": {
        "colab": {
          "base_uri": "https://localhost:8080/"
        },
        "id": "aVNRbFsU5Mqf",
        "outputId": "00ae2343-feaf-485c-be10-3c4d4511fe89"
      },
      "outputs": [
        {
          "output_type": "stream",
          "name": "stdout",
          "text": [
            "OR(0, 1) = 1\n",
            "OR(1, 1) = 1\n",
            "OR(0, 0) = 1\n",
            "OR(1, 0) = 1\n"
          ]
        }
      ],
      "source": [
        "import numpy as np\n",
        "\n",
        "def unitstep(v):\n",
        "  if v>= 0:\n",
        "    return 1\n",
        "  else:\n",
        "    return 0\n",
        "\n",
        "def perceptronModel(x,w,b):\n",
        "  v = np.dot(w,x) + b\n",
        "  y = unitstep(v)\n",
        "  return y\n",
        "\n",
        "def OR_logicFunction(x):\n",
        "  w = np.array([1,1])\n",
        "  b = 0.5\n",
        "  return perceptronModel(x,w,b)\n",
        "\n",
        "\n",
        "test1 = np.array([0, 1])\n",
        "test2 = np.array([1, 1])\n",
        "test3 = np.array([0, 0])\n",
        "test4 = np.array([1, 0])\n",
        "print(\"OR({}, {}) = {}\".format(0, 1, OR_logicFunction(test1)))\n",
        "print(\"OR({}, {}) = {}\".format(1, 1, OR_logicFunction(test2)))\n",
        "print(\"OR({}, {}) = {}\".format(0, 0, OR_logicFunction(test3)))\n",
        "print(\"OR({}, {}) = {}\".format(1, 0, OR_logicFunction(test4)))\n"
      ]
    }
  ]
}